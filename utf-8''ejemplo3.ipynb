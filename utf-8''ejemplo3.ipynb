{
  "cells": [
    {
      "metadata": {
        "trusted": true
      },
      "cell_type": "code",
      "source": "suma=0\ncontador=1\nlimite=10\nsuma_cadena =\"\"\n**=\"\"",
      "execution_count": 16,
      "outputs": [
        {
          "output_type": "error",
          "ename": "SyntaxError",
          "evalue": "invalid syntax (<ipython-input-16-512e5a041e4a>, line 5)",
          "traceback": [
            "\u001b[0;36m  File \u001b[0;32m\"<ipython-input-16-512e5a041e4a>\"\u001b[0;36m, line \u001b[0;32m5\u001b[0m\n\u001b[0;31m    **=\"\"\u001b[0m\n\u001b[0m      ^\u001b[0m\n\u001b[0;31mSyntaxError\u001b[0m\u001b[0;31m:\u001b[0m invalid syntax\n"
          ]
        }
      ]
    },
    {
      "metadata": {
        "trusted": true
      },
      "cell_type": "code",
      "source": "while contador<=limite:\n    if contador % 2 ==0:\n        suma = suma + contador\n    else:\n        suma_cadena = suma_cadena + str(contador)\n    contador = contador + 1\nprint (suma)\nprint (suma_cadena)\nprint(int(suma_cadena)**2)\n",
      "execution_count": 19,
      "outputs": [
        {
          "output_type": "stream",
          "text": "30\n13579\n184389241\n",
          "name": "stdout"
        }
      ]
    },
    {
      "metadata": {
        "trusted": true
      },
      "cell_type": "code",
      "source": "print (suma)",
      "execution_count": 18,
      "outputs": [
        {
          "output_type": "stream",
          "text": "30\n",
          "name": "stdout"
        }
      ]
    },
    {
      "metadata": {
        "trusted": true
      },
      "cell_type": "code",
      "source": "",
      "execution_count": null,
      "outputs": []
    },
    {
      "metadata": {
        "trusted": true
      },
      "cell_type": "code",
      "source": "",
      "execution_count": null,
      "outputs": []
    }
  ],
  "metadata": {
    "kernelspec": {
      "name": "python36",
      "display_name": "Python 3.6",
      "language": "python"
    },
    "language_info": {
      "mimetype": "text/x-python",
      "nbconvert_exporter": "python",
      "name": "python",
      "pygments_lexer": "ipython3",
      "version": "3.6.6",
      "file_extension": ".py",
      "codemirror_mode": {
        "version": 3,
        "name": "ipython"
      }
    }
  },
  "nbformat": 4,
  "nbformat_minor": 2
}