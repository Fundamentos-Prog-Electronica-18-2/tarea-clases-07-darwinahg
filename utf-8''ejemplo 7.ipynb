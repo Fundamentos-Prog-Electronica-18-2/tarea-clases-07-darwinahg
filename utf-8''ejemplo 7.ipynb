{
  "cells": [
    {
      "metadata": {
        "trusted": true
      },
      "cell_type": "code",
      "source": "contador = 1\nlimite_estatura = 10 \nsuma_estatura = 0\npresentar_cadena = 0\npromedio_estatura = 0\n\nlimite_estatura = input(\"ingrese el numero de estaturas:\\n\")\nlimite_estatura = int (limite_estatura)",
      "execution_count": 27,
      "outputs": [
        {
          "output_type": "stream",
          "name": "stdout",
          "text": "ingrese el numero de estaturas:\n2\n"
        }
      ]
    },
    {
      "metadata": {
        "trusted": true
      },
      "cell_type": "code",
      "source": "while contador <= limite_estatura:\n    estatura = input (\"ingrese una estatura:\\n\")\n    estatura = float(estatura)\n    contador = contador + 1\n    suma_estatura = suma_estatura + estatura",
      "execution_count": 28,
      "outputs": [
        {
          "output_type": "stream",
          "name": "stdout",
          "text": "ingrese una estatura:\n2\ningrese una estatura:\n2\n"
        }
      ]
    },
    {
      "metadata": {
        "trusted": true
      },
      "cell_type": "code",
      "source": "suma = suma_estatura \nprint (suma)",
      "execution_count": 29,
      "outputs": [
        {
          "output_type": "stream",
          "text": "4.0\n",
          "name": "stdout"
        }
      ]
    },
    {
      "metadata": {
        "trusted": true
      },
      "cell_type": "code",
      "source": "promedio_estatura = suma / estatura\nprint (promedio_estatura)",
      "execution_count": 30,
      "outputs": [
        {
          "output_type": "stream",
          "text": "2.0\n",
          "name": "stdout"
        }
      ]
    },
    {
      "metadata": {
        "trusted": true
      },
      "cell_type": "code",
      "source": "",
      "execution_count": null,
      "outputs": []
    },
    {
      "metadata": {
        "trusted": true
      },
      "cell_type": "code",
      "source": "",
      "execution_count": null,
      "outputs": []
    }
  ],
  "metadata": {
    "kernelspec": {
      "name": "python36",
      "display_name": "Python 3.6",
      "language": "python"
    },
    "language_info": {
      "mimetype": "text/x-python",
      "nbconvert_exporter": "python",
      "name": "python",
      "pygments_lexer": "ipython3",
      "version": "3.6.6",
      "file_extension": ".py",
      "codemirror_mode": {
        "version": 3,
        "name": "ipython"
      }
    }
  },
  "nbformat": 4,
  "nbformat_minor": 2
}