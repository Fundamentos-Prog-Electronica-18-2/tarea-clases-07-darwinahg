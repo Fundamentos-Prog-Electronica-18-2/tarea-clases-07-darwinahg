{
  "cells": [
    {
      "metadata": {
        "trusted": true
      },
      "cell_type": "code",
      "source": "",
      "execution_count": null,
      "outputs": []
    },
    {
      "metadata": {
        "trusted": true
      },
      "cell_type": "code",
      "source": "multiplicar=\"\"\ncontador=0\nlimite=10\nnumero=7\noperacion=0\ncadena_presentar=\"\"\nsuma=0\nopcion=0\n\n",
      "execution_count": 4,
      "outputs": []
    },
    {
      "metadata": {
        "trusted": true
      },
      "cell_type": "code",
      "source": "print (\"multiplicar = 1  ,  suma = 2\")\nopcion=input(\"ingre una opcion:\\n\")\nopcion = int (opcion)\nnumero=input (\"ingrese un numero :\\n\")\nnumero=int(numero)\n\nif opcion==1:\n    \n    while contador<=limite:\n        operacion = numero * contador\n        cadena_presentar = str(numero) + \" * \" +str(contador) + \" = \" + str(operacion)\n        print(cadena_presentar)\n        contador = contador + 1\nelse:\n    if opcion==2:\n        while contador<=limite:\n            operacion = numero + contador\n            cadena_presentar = str(numero) + \" + \" +str(contador) + \" = \" + str(operacion)\n            print(cadena_presentar)\n            contador = contador + 1\n    else:\n        print(\"ah ingresado una opcion incorrecta\")\n        \n        ",
      "execution_count": 13,
      "outputs": [
        {
          "output_type": "stream",
          "text": "multiplicar = 1  ,  suma = 2\ningre una opcion:\n2\ningrese un numero :\n6\n6 + 0 = 6\n6 + 1 = 7\n6 + 2 = 8\n6 + 3 = 9\n6 + 4 = 10\n6 + 5 = 11\n6 + 6 = 12\n6 + 7 = 13\n6 + 8 = 14\n6 + 9 = 15\n6 + 10 = 16\n",
          "name": "stdout"
        }
      ]
    },
    {
      "metadata": {
        "trusted": true
      },
      "cell_type": "code",
      "source": "",
      "execution_count": 3,
      "outputs": [
        {
          "output_type": "error",
          "ename": "SyntaxError",
          "evalue": "invalid syntax (<ipython-input-3-40bf8c9306c8>, line 2)",
          "traceback": [
            "\u001b[0;36m  File \u001b[0;32m\"<ipython-input-3-40bf8c9306c8>\"\u001b[0;36m, line \u001b[0;32m2\u001b[0m\n\u001b[0;31m    pass numero=input (\"ingrese un numero :\\n\")\u001b[0m\n\u001b[0m              ^\u001b[0m\n\u001b[0;31mSyntaxError\u001b[0m\u001b[0;31m:\u001b[0m invalid syntax\n"
          ]
        }
      ]
    },
    {
      "metadata": {
        "trusted": true
      },
      "cell_type": "code",
      "source": "\n",
      "execution_count": null,
      "outputs": []
    }
  ],
  "metadata": {
    "kernelspec": {
      "name": "python36",
      "display_name": "Python 3.6",
      "language": "python"
    },
    "language_info": {
      "mimetype": "text/x-python",
      "nbconvert_exporter": "python",
      "name": "python",
      "pygments_lexer": "ipython3",
      "version": "3.6.6",
      "file_extension": ".py",
      "codemirror_mode": {
        "version": 3,
        "name": "ipython"
      }
    }
  },
  "nbformat": 4,
  "nbformat_minor": 2
}